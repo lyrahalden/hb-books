{
 "cells": [
  {
   "cell_type": "markdown",
   "metadata": {},
   "source": [
    "# Machine Learning is not that complicated (in Python)"
   ]
  },
  {
   "cell_type": "code",
   "execution_count": 121,
   "metadata": {},
   "outputs": [],
   "source": [
    "import numpy as np\n",
    "\n",
    "from sklearn.linear_model import LogisticRegression\n",
    "from sklearn.feature_extraction.text import CountVectorizer, TfidfVectorizer\n",
    "from sklearn.naive_bayes import MultinomialNB, BernoulliNB\n",
    "from sklearn import cross_validation\n",
    "from sklearn import metrics"
   ]
  },
  {
   "cell_type": "markdown",
   "metadata": {},
   "source": [
    "data set: https://archive.ics.uci.edu/ml/datasets/SMS+Spam+Collection"
   ]
  },
  {
   "cell_type": "code",
   "execution_count": 122,
   "metadata": {},
   "outputs": [
    {
     "data": {
      "text/plain": [
       "6120"
      ]
     },
     "execution_count": 122,
     "metadata": {},
     "output_type": "execute_result"
    }
   ],
   "source": [
    "labels=[]\n",
    "documents=[]\n",
    "with open('./reviews.csv') as f:\n",
    "    for line in f:\n",
    "        line_list = line.split('|')\n",
    "        if line_list[3] == '1' or line_list[3] == '2':\n",
    "            labels.append('neg')\n",
    "            documents.append(line_list[4])\n",
    "\n",
    "        elif line_list[3] == '4' or line_list[3] == '5':\n",
    "            labels.append('pos')\n",
    "            documents.append(line_list[4])\n",
    "\n",
    "\n",
    "len(documents)"
   ]
  },
  {
   "cell_type": "code",
   "execution_count": 123,
   "metadata": {},
   "outputs": [
    {
     "name": "stdout",
     "output_type": "stream",
     "text": [
      "This book was a bizarre experience for me. It reads much like a traditional, classic English novel, except with loads of descriptive sex and vulgar words mixed in for shock value. Instead of being shocked, though, I just found it all a bit tiresome and rather silly.  Maybe it was the fact that Lawrence sometimes used words like \"thee\" and \"thy\" and \"dost\" mixed in with modern day vulgarities that added to the overall unintentional humor of it for me, or perhaps it was that the vulgarities were simply used so darned often. In any event, I found myself laughing out loud often. I also found myself cringing. C and F words aside, did anyone tell Lawrence the word \"bowels\" is not particularly appealing? Anyway, I can see why some people felt at the time this was quite simply a trashy romance disguised as literature. It kind of is. Well-written and intelligent, for the most part, but still a bit trashy nonetheless. The story is essentially this: Lady Chatterley's young husband is paralyzed from an injury at war, and is rendered impotent. This leaves the question: can Lady Chatterley be happy in her new marriage without sexual intimacy, or is she excused for seeking physical satisfaction elsewhere with another man? This may have made for a somewhat interesting story (whether you sympathized with her or not) had Lady Chatterley and her husband had a loving friendship or an otherwise soulful or intellectual connection of some kind. But, they didn't. They seemed to have little in common at all. And as such, the book became (for me) merely a story about a woman generally unhappy in her marriage who chooses to have an affair. The fact that her husband is paralyzed becomes almost irrelevant, as it appeared their marriage would have lacked love and passion (physical or emotional) regardless.  While I understand Lawrence was trying to argue that both mind and body must be equally satisfied, particularly in a society Lawrence felt was growing more industrialized and thus emotionally and physically stilted (as was Lady Chatterley's husband), I don't think he did so in the most effective or impressive of ways. I think I had been hoping to read a book about the complexities of what truly defines intimacy, and how a sudden illness or disability can alter a relationship. But that was definitely not this book. That being said, there are somewhat interesting (and yet also at times rather dull) discussions on the state of the social classes and industrialization in post-WWI England, as well as some rather open (if not extremely overly stereotypical) dialogues about the differences in which men and women viewed sex at the time. Vulgar words excluded, the prose is quite lovely in places, and there's no doubt Lawrence can write. But in the end, it felt much to me like nothing more than a book trying way too hard to be provocative. I just could not take it seriously.\n",
      "\n",
      "neg\n",
      "\n",
      "One of my all time best of the best books. This is one author I would so love to meet in real life. This is a true classic novel; I read in high school and studied at uni. Not matter how many times read; it remains a 5★ each time. A must read for all readers, imo.\n",
      "\n",
      "pos\n",
      "\n",
      "Mr. Thomas Gradgrind , a very wealthy, former merchant, now retired, only believes in facts, and mathematics, two plus two, is four... facts are important, facts will lift you into prosperity, facts are what to live by, they are the only thing that matters, everything else is worthless ... knowing. He sets up a model school, were the terrorized students, will learn this, ( and other subjects that are unfortunately, also taught) the eminently practical man, teaches his five children at birth ... facts! They fear him, a dictator, at home, his weak minded, sick wife, just looks on, wrapping herself up, to keep warm and complaining of her weariness . But fictitious Coketown , (Manchester) is a dirty, factory town, incessant noises from countless machines, powered by coal, chimneys forever spewing dark gases, polluting the air, thick smoke like a twisting snake high above the atmosphere, moving this way and that, spreading all through the surrounding areas, the filth, the sickness, and early death, to the inhabitants, but the \"hands\" are not relevant, money is, making lots of it, that, and only that. A foul- smelling canal, and even more, a purple river, flows by , the buildings becoming an ugly gray, quickly, the people have to escape to the countryside, to breath fresh healthy air. Travelers going by this place, can only imagine there is a city there, under the black cloud covering, yet they can't see it. Mr. Gradgrind best friend, if there is such an animal, in his circle, is the banker, and manufacturer, Mr. Josiah Bounderby, always telling anyone, within hearing distance, that he himself, rose from the gutter, to become a rich man, no help... he did it alone . Story after story, of his sleeping in the streets, hungry, soiled, without a farthing to his name. Abandoned by the evil, uncaring, widowed mother, brought up by his horrible, drunken grandmother, who beats the child repeatedly . Entertaining, heart-wrenching, you felt for this man, how he suffered greatly in youth, except it's not quite true ...in fact, lies. Louisa, Mr. Gradgrind's oldest and favorite child, is very pretty, the bachelor Bounderby, has eyes for her, when she reaches the proper age of about 20, the fifty- year -old man, asks for her hand in marriage, of course, conveying this fact first, to her father. Louisa says what does it matter, a prisoner in her own home, the girl hasn't seen anything of the world, disaster follows, the couple have nothing in common, what can they talk about? Mrs. Sparsit, her husband's meddling housekeeper, from a good family, hates her. Louisa, flirts with the restless, gentleman, Mr. James Harthouse, who proudly states that he is no good! Still Louisa, only loves her brother, \"The Whelp\", young Thomas, getting money from his sister, gambling, drinking, wasting it all and always coming back for more. The selfish boy, works in the bank for Mr. Bounderby, his now, brother- in- law, when the well runs dry, the drunkard \"finds\" some 150 pounds sterling, inside the bank, not properly being used and sees, that it will be. Implicating an innocent \"hand\", Stephen Blackpool, fired recently by Bounderby, for speaking too much, shunned by the trade union members, for not joining, he walks the streets a lonely man, with an alcoholic wife who deserted him, she still periodically comes back , to sober up, and a sweetheart, that he can't marry too. Mr.Blackpool, seeks work elsewhere, not knowing he's a suspect, in the puzzling crime. The industrial revolution makes some people rich and others sick, but there is no going back , the dye has been cast ...\n",
      "\n",
      "pos\n",
      "\n",
      "- Hello. I'm Cécile. - Manny. - You as bored with this party as I am? - How bored are you? - Very. - I believe I'm enjoying it slightly more than you.  - Were you often this bored when you were my age? - How old are you? - Seventeen. - Um... I'm trying to remember. I think so.  - So what did you do? - I read a lot.  - Me too. Anything you'd recommend?  - Category? - Something for a cynical girl who wants to be a famous author? - You've read  ? - Uh-uh. - It might inspire you. She published it very young, and it's excellent. And the heroine's first name is the same as yours. - Any other reasons? - You don't like your stepmother much, do you? - You got that one right. - Well, it has detailed, step-by-step instructions on how to kill her and get away clean.  - Hey! Now I really must read it. Thanks. - You're welcome. - Want to come upstairs for a bit? - You won't be offended if I say no? - It's okay. I'll find some other middle-aged man to seduce. How about him over there? - He looks promising. Good luck. - Okay, well, nice talking. And I'll check out the book. - I enjoyed meeting you too. Let me know what you think. - I will. Bye. - Bye.\n",
      "\n",
      "pos\n",
      "\n",
      "Mi-a displăcut enorm! Pe cât de plin de resemnare e titlul, pe atât este romanul de gol. A asocia tristeţea cu nişte stări exclusiv puerile şi lipsite de orice formă de sentiment mi se pare cu atât mai imputabil. Pasajul acela cu virginitatea a fost, iarăşi, atât de pragmatic, încât nici nu îmi vine să numesc asta literatură. Pe de altă parte, cum rămâne cu descrierea?! \"Închiriase, pe malul Mediteranei, o vilă mare [...] înconjurată de o pădure de pini.\" De obicei, nu acord o importanţă prea mare detaliilor, dar cine dracu ar pune o pădure de pini în inima Coastei de Azur?! Este, deci, infantilă. Este un război declarat afecţiunii, iar singură parte frumoasă a cărţii, este sursa de inspiraţie a titlului, transpusă şi ca motto, anume poemul \"La vie immediate\" de Paul Eluard.\n",
      "\n",
      "neg\n",
      "\n"
     ]
    }
   ],
   "source": [
    "for document, label in zip(documents, labels)[:5]:\n",
    "    print document\n",
    "    print label\n",
    "    print"
   ]
  },
  {
   "cell_type": "code",
   "execution_count": 125,
   "metadata": {},
   "outputs": [
    {
     "name": "stdout",
     "output_type": "stream",
     "text": [
      "number pos: 4306\n"
     ]
    }
   ],
   "source": [
    "print 'number pos:', len([item for item in labels if item == 'pos'])"
   ]
  },
  {
   "cell_type": "markdown",
   "metadata": {},
   "source": [
    "# transform texts into vectors\n",
    "\n",
    "let's use TF-IDF (term frequency, inverse document frequency):\n",
    "\n",
    "- give more weight to words that occur a lot within a document\n",
    "- give less weight to words that occur in many documents"
   ]
  },
  {
   "cell_type": "code",
   "execution_count": 208,
   "metadata": {},
   "outputs": [],
   "source": [
    "vectorizer = TfidfVectorizer(stop_words='english', ngram_range=(3, 1))"
   ]
  },
  {
   "cell_type": "code",
   "execution_count": 209,
   "metadata": {},
   "outputs": [
    {
     "name": "stdout",
     "output_type": "stream",
     "text": [
      "(6120, 58125) (6120,)\n"
     ]
    }
   ],
   "source": [
    "X = vectorizer.fit_transform(documents)\n",
    "y = np.array(labels)\n",
    "\n",
    "print X.shape, y.shape"
   ]
  },
  {
   "cell_type": "code",
   "execution_count": 210,
   "metadata": {},
   "outputs": [
    {
     "data": {
      "text/plain": [
       "array(['neg', 'pos', 'pos', ..., 'neg', 'pos', 'pos'],\n",
       "      dtype='|S3')"
      ]
     },
     "execution_count": 210,
     "metadata": {},
     "output_type": "execute_result"
    }
   ],
   "source": [
    "y"
   ]
  },
  {
   "cell_type": "markdown",
   "metadata": {},
   "source": [
    "# instantiate classifier\n",
    "\n",
    "naive Bayes:\n",
    "\n",
    "$$probability(spam | document) = probability(document | spam) \\times probability(spam) / probability(document)$$\n",
    "\n",
    "$$ \\approx prob(word_1|spam) \\times prob(word_2|spam) \\times ... \\times prob(word_n|spam) \\times prob(spam)$$\n",
    "\n",
    "\"naive\" = \"wrong\""
   ]
  },
  {
   "cell_type": "code",
   "execution_count": 211,
   "metadata": {},
   "outputs": [],
   "source": [
    "clf = BernoulliNB()"
   ]
  },
  {
   "cell_type": "markdown",
   "metadata": {},
   "source": [
    "# cross validation"
   ]
  },
  {
   "cell_type": "code",
   "execution_count": 212,
   "metadata": {},
   "outputs": [],
   "source": [
    "cv = cross_validation.StratifiedKFold(y,5)"
   ]
  },
  {
   "cell_type": "code",
   "execution_count": 213,
   "metadata": {},
   "outputs": [],
   "source": [
    "precision=[]\n",
    "recall=[]\n",
    "for train, test in cv:\n",
    "    X_train = X[train]\n",
    "    X_test = X[test]\n",
    "    y_train = y[train]\n",
    "    y_test = y[test]\n",
    "#     print len(y_train), len(y_test)\n",
    "#     clf = BernoulliNB()\n",
    "    clf.fit(X_train, y_train)\n",
    "    y_hat = clf.predict(X_test)\n",
    "    p,r,_,_ = metrics.precision_recall_fscore_support(y_test, y_hat)\n",
    "    precision.append(p[1])\n",
    "    recall.append(r[1])"
   ]
  },
  {
   "cell_type": "code",
   "execution_count": 214,
   "metadata": {},
   "outputs": [
    {
     "data": {
      "text/plain": [
       "[0.78357487922705316,\n",
       " 0.75485661424606842,\n",
       " 0.79327398615232447,\n",
       " 0.7530516431924883,\n",
       " 0.72810218978102192]"
      ]
     },
     "execution_count": 214,
     "metadata": {},
     "output_type": "execute_result"
    }
   ],
   "source": [
    "precision"
   ]
  },
  {
   "cell_type": "markdown",
   "metadata": {},
   "source": [
    "# average precision / recall across k-folds\n",
    "\n",
    "- precision: of predicted negative reviews, how many are actually negative reviews?\n",
    "- recall: of the actual negative reviews, how many are predicted to be negative reviews?"
   ]
  },
  {
   "cell_type": "code",
   "execution_count": 215,
   "metadata": {},
   "outputs": [
    {
     "name": "stdout",
     "output_type": "stream",
     "text": [
      "TfidfVectorizer(analyzer=u'word', binary=False, decode_error=u'strict',\n",
      "        dtype=<type 'numpy.int64'>, encoding=u'utf-8', input=u'content',\n",
      "        lowercase=True, max_df=1.0, max_features=None, min_df=1,\n",
      "        ngram_range=(3, 1), norm=u'l2', preprocessor=None, smooth_idf=True,\n",
      "        stop_words='english', strip_accents=None, sublinear_tf=False,\n",
      "        token_pattern=u'(?u)\\\\b\\\\w\\\\w+\\\\b', tokenizer=None, use_idf=True,\n",
      "        vocabulary=None)\n",
      "BernoulliNB(alpha=1.0, binarize=0.0, class_prior=None, fit_prior=True)\n",
      "precision: 0.76257186252 +/- 0.0233326598442\n",
      "recall: 0.935669956965 +/- 0.00755781622531\n"
     ]
    }
   ],
   "source": [
    "print vectorizer\n",
    "print clf\n",
    "print 'precision:',np.average(precision), '+/-', np.std(precision)\n",
    "print 'recall:', np.average(recall), '+/-', np.std(recall)"
   ]
  },
  {
   "cell_type": "markdown",
   "metadata": {},
   "source": [
    "# try on new negative review"
   ]
  },
  {
   "cell_type": "code",
   "execution_count": 216,
   "metadata": {},
   "outputs": [],
   "source": [
    "neg_sample = 'yuck sickening overblown yawn overuse scrooge unoriginal'\n",
    "neg_sample = vectorizer.transform([neg_sample])\n",
    "#print sample"
   ]
  },
  {
   "cell_type": "code",
   "execution_count": 217,
   "metadata": {},
   "outputs": [
    {
     "data": {
      "text/plain": [
       "array([[  9.99990107e-01,   9.89285759e-06]])"
      ]
     },
     "execution_count": 217,
     "metadata": {},
     "output_type": "execute_result"
    }
   ],
   "source": [
    "clf.predict_proba(neg_sample)"
   ]
  },
  {
   "cell_type": "code",
   "execution_count": 218,
   "metadata": {},
   "outputs": [],
   "source": [
    "pos_sample = 'delightful masterfully accessible bittersweet examines terrific playful'\n",
    "pos_sample = vectorizer.transform([pos_sample])"
   ]
  },
  {
   "cell_type": "code",
   "execution_count": 219,
   "metadata": {},
   "outputs": [
    {
     "data": {
      "text/plain": [
       "array([[  4.49125392e-11,   1.00000000e+00]])"
      ]
     },
     "execution_count": 219,
     "metadata": {},
     "output_type": "execute_result"
    }
   ],
   "source": [
    "clf.predict_proba(pos_sample)"
   ]
  },
  {
   "cell_type": "markdown",
   "metadata": {},
   "source": [
    "# most spammy words"
   ]
  },
  {
   "cell_type": "code",
   "execution_count": 220,
   "metadata": {},
   "outputs": [
    {
     "data": {
      "text/plain": [
       "318"
      ]
     },
     "execution_count": 220,
     "metadata": {},
     "output_type": "execute_result"
    }
   ],
   "source": [
    "stop_words = vectorizer.get_stop_words()\n",
    "len(stop_words)"
   ]
  },
  {
   "cell_type": "code",
   "execution_count": 221,
   "metadata": {},
   "outputs": [
    {
     "data": {
      "text/plain": [
       "58125"
      ]
     },
     "execution_count": 221,
     "metadata": {},
     "output_type": "execute_result"
    }
   ],
   "source": [
    "probs=clf.feature_log_prob_[1] - clf.feature_log_prob_[0]\n",
    "len(probs)"
   ]
  },
  {
   "cell_type": "code",
   "execution_count": 222,
   "metadata": {},
   "outputs": [
    {
     "data": {
      "text/plain": [
       "58125"
      ]
     },
     "execution_count": 222,
     "metadata": {},
     "output_type": "execute_result"
    }
   ],
   "source": [
    "features=vectorizer.get_feature_names()\n",
    "len(features)"
   ]
  },
  {
   "cell_type": "code",
   "execution_count": 223,
   "metadata": {},
   "outputs": [
    {
     "data": {
      "text/plain": [
       "[(2.5041099215630735, u'delightful'),\n",
       " (2.4690186017518041, u'visited'),\n",
       " (2.432650957580929, u'accessible'),\n",
       " (2.3556899164448009, u'madame'),\n",
       " (2.3148679219245452, u'masterfully'),\n",
       " (2.3148679219245452, u'coast'),\n",
       " (2.3148679219245452, u'bittersweet'),\n",
       " (2.2723083075057495, u'samuel'),\n",
       " (2.2723083075057495, u'levin'),\n",
       " (2.2278565449349159, u'clare'),\n",
       " (2.1813365293000224, u'nazis'),\n",
       " (2.1813365293000224, u'examines'),\n",
       " (2.1813365293000224, u'diverse'),\n",
       " (2.1325463651305903, u'rosaleen'),\n",
       " (2.1325463651305903, u'cleopatra'),\n",
       " (2.0812530707430401, u'woke'),\n",
       " (2.0812530707430401, u'varied'),\n",
       " (2.0812530707430401, u'terrific'),\n",
       " (2.0812530707430401, u'playful'),\n",
       " (2.0812530707430401, u'occupation'),\n",
       " (2.0812530707430401, u'nations'),\n",
       " (2.0812530707430401, u'lean'),\n",
       " (2.0812530707430401, u'histories'),\n",
       " (2.0812530707430401, u'ease'),\n",
       " (2.0812530707430401, u'bovary'),\n",
       " (2.0812530707430401, u'adam'),\n",
       " (2.0271858494727644, u'tragedies'),\n",
       " (2.0271858494727644, u'september'),\n",
       " (2.0271858494727644, u'rising'),\n",
       " (2.0271858494727644, u'principles'),\n",
       " (2.0271858494727644, u'preserve'),\n",
       " (2.0271858494727644, u'familiarity'),\n",
       " (2.0271858494727644, u'constance'),\n",
       " (2.0271858494727644, u'communities'),\n",
       " (1.9990149725060675, u'scotland'),\n",
       " (1.970027435632816, u'vibrant'),\n",
       " (1.970027435632816, u'melancholy'),\n",
       " (1.970027435632816, u'infamous'),\n",
       " (1.970027435632816, u'heroines'),\n",
       " (1.970027435632816, u'heartbreak'),\n",
       " (1.970027435632816, u'hardships'),\n",
       " (1.970027435632816, u'germans'),\n",
       " (1.970027435632816, u'gem'),\n",
       " (1.970027435632816, u'gain'),\n",
       " (1.970027435632816, u'concentration'),\n",
       " (1.9094028138163814, u'optimism'),\n",
       " (1.9094028138163814, u'novellas'),\n",
       " (1.9094028138163814, u'norms'),\n",
       " (1.9094028138163814, u'imposed'),\n",
       " (1.9094028138163814, u'hysterical')]"
      ]
     },
     "execution_count": 223,
     "metadata": {},
     "output_type": "execute_result"
    }
   ],
   "source": [
    "sorted(zip(probs,features), reverse=True)[:50]"
   ]
  },
  {
   "cell_type": "markdown",
   "metadata": {},
   "source": [
    "\n"
   ]
  },
  {
   "cell_type": "markdown",
   "metadata": {
    "collapsed": true
   },
   "source": [
    "![](cat.jpg)"
   ]
  },
  {
   "cell_type": "code",
   "execution_count": null,
   "metadata": {
    "collapsed": true
   },
   "outputs": [],
   "source": []
  }
 ],
 "metadata": {
  "kernelspec": {
   "display_name": "Python 2",
   "language": "python",
   "name": "python2"
  },
  "language_info": {
   "codemirror_mode": {
    "name": "ipython",
    "version": 2
   },
   "file_extension": ".py",
   "mimetype": "text/x-python",
   "name": "python",
   "nbconvert_exporter": "python",
   "pygments_lexer": "ipython2",
   "version": "2.7.12"
  }
 },
 "nbformat": 4,
 "nbformat_minor": 1
}
