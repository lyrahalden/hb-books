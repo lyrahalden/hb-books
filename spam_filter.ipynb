{
 "cells": [
  {
   "cell_type": "markdown",
   "metadata": {},
   "source": [
    "# Machine Learning is not that complicated (in Python)"
   ]
  },
  {
   "cell_type": "code",
   "execution_count": 1,
   "metadata": {},
   "outputs": [
    {
     "name": "stderr",
     "output_type": "stream",
     "text": [
      "/home/user/src/goodreads_project/env/local/lib/python2.7/site-packages/sklearn/cross_validation.py:41: DeprecationWarning: This module was deprecated in version 0.18 in favor of the model_selection module into which all the refactored classes and functions are moved. Also note that the interface of the new CV iterators are different from that of this module. This module will be removed in 0.20.\n",
      "  \"This module will be removed in 0.20.\", DeprecationWarning)\n"
     ]
    }
   ],
   "source": [
    "import numpy as np\n",
    "\n",
    "from sklearn.linear_model import LogisticRegression\n",
    "from sklearn.feature_extraction.text import CountVectorizer, TfidfVectorizer\n",
    "from sklearn.naive_bayes import MultinomialNB, BernoulliNB\n",
    "from sklearn import cross_validation\n",
    "from sklearn import metrics"
   ]
  },
  {
   "cell_type": "markdown",
   "metadata": {},
   "source": [
    "data set: https://archive.ics.uci.edu/ml/datasets/SMS+Spam+Collection"
   ]
  },
  {
   "cell_type": "code",
   "execution_count": 96,
   "metadata": {},
   "outputs": [
    {
     "data": {
      "text/plain": [
       "2431"
      ]
     },
     "execution_count": 96,
     "metadata": {},
     "output_type": "execute_result"
    }
   ],
   "source": [
    "labels=[]\n",
    "documents=[]\n",
    "with open('./reviews.csv') as f:\n",
    "    for line in f:\n",
    "        line_list = line.split('|')\n",
    "        if line_list[3] == '1' or line_list[3] == '2' or line_list[3] == '3':\n",
    "            labels.append('neg')\n",
    "            documents.append(line_list[4])\n",
    "\n",
    "        elif line_list[3] == '4' or line_list[3] == '5':\n",
    "            labels.append('pos')\n",
    "            documents.append(line_list[4])\n",
    "\n",
    "\n",
    "len(documents)"
   ]
  },
  {
   "cell_type": "code",
   "execution_count": 97,
   "metadata": {},
   "outputs": [
    {
     "name": "stdout",
     "output_type": "stream",
     "text": [
      "Well, I never read this as a teen. The reason being that my middle school didn’t think it was appropriate to put in our reading curriculum, probably due to rape  . So with the   about to come out, I decided to finally read this one. I wanted to go to Barnes and Noble and get their special leather-bound edition of it, but was told that it was no longer available. I bought it on Amazon instead. What we have here is part coming of age school novel, part courtroom drama, and part small town mythos.  While Scout recounts her early years at school (which seem to blend together without regard for timing), it’s a learning process for all. Her earliest teacher makes bureaucratic, though well-meaning, mistakes by shaming Scout for already knowing how to read and doesn’t know the faux pas of the town social nuances. What surprised me most about the court case was how swift it was decided. I don’t know how fast these things went in the old days (to see if the book was an accurate portrayal for the time), but a one-day trial for rape seems too quick. Really, even small claims civil cases can take days with all the pomp and circumstance of a courtroom (at least in larger cities). Atticus really makes this an open and shut case with a few facts, but that doesn’t seem to sway the juror’s predisposed prejudice against the defendant on the basis of color. Then there’s this weirdness with a Halloween pageant where Scout has to dress like cured pork. Which leads up to a very real confrontation where she gets shanked in the ham. Then Boo ghosts out of his place and just kills Scout’s assailant abruptly, says about 2 lines and leaves to star in  . All in all, it was an okay novel. I can’t say I was blown away by it, but that might have been because my expectations were too high to begin with. [\"br\"]>[\"br\"]>[\"br\"]>[\"br\"]>[\"br\"]>[\"br\"]>[\"br\"]>[\"br\"]>[\"br\"]>[\"br\"]>[\"br\"]>[\"br\"]>[\"br\"]>[\"br\"]>[\"br\"]>[\"br\"]>[\"br\"]>[\"br\"]>\n",
      "\n",
      "neg\n",
      "\n",
      "When I was a kid, my older sister had a version of \"winne the pooh\" with lots of beautiful illustrations but she don’t let me to turn the pages of it. However I exactly remember all of those images of pooh, rabbit, baby Roo and Christopher robin. All of those characters had many amazing adventures in the book and just a honey jar made pooh happy. I think that \"winne the pooh\" says to its readers of any ages: live and enjoy!\n",
      "\n",
      "pos\n",
      "\n",
      "okay, so recently I've had a problem with children's books. Children specifically not even teen. They seemed too simple, and even if well plotted poorly written. I was at a basic point where I was willing to assume I had been wrong and no children's book was actually all that good.  and then I had a really bad day. customers were jerks and ten minutes after the store opened I was already being complained about. Karen was gone no one was really on the floor for much of the midday. We are talking some level of melt down disaster (HI KAREN!!). but that isn't really all. I haven't been sleeping much I have tons of work for school and I'm feeling a bit generally like a failure at the moment. how does this lead to reading winnie the pooh? it just does.  Things I've learned from this book: winnie the pooh's real name is edward the bear. Christopher robin is AA milne's son. Roo falls down mouse holes.  This is not only an adorable childrens book it is actually extremely well written. I loved it. The songs are cute and even the illogic has a very nice place. I really think the writing is very similar to lewis carroll in tone. IT really feels like the story of a child not just a story someone is trying to hard to get a child to like.\n",
      "\n",
      "pos\n",
      "\n",
      "OK, everyone needs to stop what they're doing and go find a copy of Sissy Spacek reading this book. I am not exaggerating when I say it is the best audiobook performance I have ever heard.  I have read   perhaps 10 or 12 times in my life, and it is one of my favorite books, but this was the first time I listened to it. Sissy was the perfect narrator for Scout, and she also did a fantastic job at all of the other voices. If you like audiobooks, this is a must-listen. (And if any publishers are reading this, please hire Sissy to narrate more Southern literature. Her voice is so soothing she could charm a cat out of a tree.) What struck me about the story this time is how sadly relevant the issue of racial prejudice and inequality still is, even though the book was first published in 1960. At the heart of the novel is the trial of Tom Robinson, a black man who is accused of raping a white woman, Mayella Ewell. What quickly becomes apparent is that Tom is innocent, and Mayella was actually beaten by her father, Bob Ewell, when he caught her trying to kiss a negro.  Atticus Finch, the hero of the novel, does his best to defend Tom, but the jury (and most of the town) convicts him anyway, and Tom is condemned to death. Atticus' two children, Jem and Scout, are deeply upset by the case, especially when Bob Ewell continues to threaten them. This book reminded me of the police shooting and riots in Ferguson, Missouri, and of innumerable other stories in the news of African-Americans not being treated fairly by officers or the courts. I would like to find hope in what Atticus said when he's trying to explain the Tom Robinson case to Scout: \"Simply because we were licked a hundred years before we started is no reason for us not to try to win.\" There is so much to love in this book. Scout, whose real name is Jean Louise, is a tomboy and she is our narrator. The story occurs over several years, and we watch her grow up. Harper Lee has a terrific sense of humor, and Scout's antics always make me laugh.  One of Scout's best friends is a boy named Dill (a character reportedly inspired by Harper Lee's real-life friendship with Truman Capote) and at the start of the book, the kids are obsessed with a reclusive neighbor named Boo Radley. Boo is a mystery throughout the story, and when he finally appears, well, I usually have to wipe a few tears from my eyes. This novel is a gem, a true American classic. It has been a favorite of mine since I first read it in 8th-grade English, and I think it has had an impact on every generation who reads it. And based on the news, it sounds like it is still needed. “You never really understand a person until you consider things from his point of view ... Until you climb inside of his skin and walk around in it.”  “The one thing that doesn't abide by majority rule is a person's conscience.”  “As you grow older, you'll see white men cheat black men every day of your life, but let me tell you something and don't you forget it — whenever a white man does that to a black man, no matter who he is, how rich he is, or how fine a family he comes from, he is trash.”  “I think there's just one kind of folks. Folks.”\n",
      "\n",
      "pos\n",
      "\n",
      "Winnie-the-Pooh, light of my life, fire of my loins. My sin, my soul. Win-knee-the-Pooh: the tip of the lip taking a trip of three steps down the palate to return at four to kiss : Pooh. He was Pooh, plain Pooh, in the morning, standing eighteen inches in one sock. He was that scruffy old bear at school. He was Mr Winnie Pooh on the dotted line. But in my arms he was always Bear.\n",
      "\n",
      "neg\n",
      "\n",
      "داستان های شیرینی که پدر کریستوفر رابین با مهربونی و حوصله برای پسرش تعریف می کنه و خوانندگان هم کنارشون نشسته ن و گوش میدن. قهرمانان داستان ها ، پسرک و اسباب بازی هاش هستن و می شه از روی این کتاب حدس زد که نویسنده با خلق این قصه ها، چه کودکی شیرینی برای کریستوفر رابین ساخته\n",
      "\n",
      "pos\n",
      "\n",
      "Why are there so many cynical and satirical reviews of  , aka the life and times of Edward Bear, on Goodreads? What's wrong with people? Who could not love this bear and all his friends? When I was young, I adored this book - and the lovely illustrations (\"decorations by Ernest H. Shepard\"). I wonder if my love had to do with a fascination with all things British (thanks Mary Norton, Frances Hodgson Burnett, umbrellas, gorse bushes, and tea time). Such a complicated narrative too, with Milne reading to both Christopher Robin   the reader. Even sad, permanently depressed Eeyore is very, very funny. We all know someone like him, (maybe ourselves). When Eeyore's tail goes missing, Pooh offers to go find it. \"'Thank you, Pooh,' answered Eeyore. 'You're a real friend,' said he. 'Not like Some,' he said.'\" For whatever reason, I find this hilarious. I love it that \"Some\" is capitalized. I may co-opt that phrase. My favorite part is Chapter Three \"IN WHICH Pooh and Piglet Go Hunting and Nearly Catch a Woozle.\" Piglet gets excited after they spot tracks in the snow and the two ponder the possibility of a Woozle. More tracks are added - perhaps there are three, no, four Woozles? - but Piglet and Pooh are circling a \"spinney of larch trees\" and making the tracks themselves. Christopher Robin calls him a \"Silly old Bear,\" and tells Pooh what he'd done.  Of course, part of the secret to enjoying life is to accept compliments about your greatness while disregarding the anxiety about your deficiencies. This is why Pooh is not stressed out. I also like that there's a complete disregard for specie-specific habitat. Nobody ever cares that there's a kangaroo (two, actually), a tiger, a bear, a rabbit, a donkey, and an owl, hanging out together and having \"Expotition\"s.\" Things Happen, and the absurd is accepted: This is a book I wish more kids would read, a quietly magical one that radiates kindness. There's a great line that I'll use to end my Ode to Pooh. When Pooh gets stuck in the front door of Rabbit's house, he must stay there until he loses a little weight. A tear rolls down his poor little bear face and he asks Christopher Robin for a favor: \"Then would you read a Sustaining Book, such as would help and comfort a Wedged Bear in Great Tightness?\" I can't imagine a better way to get out of a sticky situation. There will always be Hunny later.\n",
      "\n",
      "pos\n",
      "\n",
      "I devour books. That is my euphemism for being so OCD that I can't put it down and live my life until I finish it. For shorter books, that's generally not a problem, but for the 974 page Pillars of the Earth...well, let's just say we ran out of food, my children clung to my legs asking for food, and the floors did not get vacuumed for a good five days while I whittled away at this book. CLIFF HANGER: This book is not a cliff-hanger at the end of every chapter kind of book, which makes it easier to read it in multiple sittings. However, Follett does such a masterful job of character development, that I found myself wanting to know what was going to happen next whether the end of the chapter contained a cliffhanger ending or not. CHARACTER DEV'T: Each character is so beautifully defined and fleshed out, that they become almost real. I felt that I knew them personally, that I could accurately predict how they would react in different situations. None of them were 100% good or bad, just like in real life. Some priests were holy, others evil; some were rich people with big hearts, others with small minds and evil intentions; some poor farmers were judgmental, w/narrow-minded attitudes, others opened their doors to strangers. PLOT/PACE: Foreshadowing was a very powerful convention that Follett skillfully weaved in and out of every chapter. It gave subtle hints, but never so overt as to suggest that the reader may be an imbecile. Backstories meander and come to closure at such a nice pace, that it always feels like something is happening and things are being resolved, for better or for worse. THEMES: My favorite theme was that natural consequences followed the actions of the characters. (I'm still a bit out of sorts after reading the deus ex machina riddled  , where all the natural consequences of three books worth of actions were completely erased-ugh.) There was a natural ebb and flow of triumph and misfortunes in Pillars of the Earth. Good things happened to bad people and bad things happened to good people, just like in real life. Follett does not try to save his characters from themselves, or from each other, and I enjoyed that very much. STRONG WOMEN: I absolutely adored the strong women in this book! What a joy to read about Aliena, carving out her own future after her world had been turned upside down! Life knocked her down plenty, but each time, she got up, made a plan, and triumphed eventually. Ellen, and Agnes in her own way, were also strong women.  OVERALL IMPRESSION: As strange as it sounds, with all of the despair and misery that took place, the overarching take home for me, was HOPE. In the face of overwhelming adversity, these characters triumphed. The road was hard and the journey was long, but they CHOSE hope. They CHOSE faith. And in the end, that was all that mattered. Pillars of the Earth will be on my favorite books list for a very long time.\n",
      "\n",
      "pos\n",
      "\n",
      "This review is dedicated to Mary, the very model of a perfect co-moderator and GR friend. In the decades following the publication of  , myriad critics have attempted to find a key to unlock the meaning of Bulgakov’s unfinished masterwork. Some viewed the novel as a political roman à clef, laboriously substituting historical figures from Stalinist Moscow for Bulgakov’s characters. Others posited a religious formula to understand the relationships between good and evil in the novel. After giving myself time to think, I believe that any attempts to reduce the novel to a formula reflect some readers’ desire for neat, safe boxes to contain the world. This approach is at odds with the fear-ridden, desperate, and yet transcendent reality of Bulgakov’s experience in writing, revising, destroying, reconstructing, and then revising the novel, up to his death in Moscow on March 10, 1940.   shows evidence of Bulgakov’s struggles to complete it, especially in part two, which illness prevented him from revising. I believe that the novel’s profound humanity stems from these imperfections, these facets not quite fitting neatly together, these jarring movements from scene to scene. In the end,   is, by virtue of its own existence, a testament to the necessity of art in times of repression, and to the urgent need for artists to veer from cowardice and hold firmly to their commitment to living a true human life, with fantasy and reality combined, with history and invention feeding into each other, with good and evil providing the shadows and depth that make life meaningful and real. One approach to   that appeals to me is understanding it, in part, as a fairy tale. In the novel, Bulgakov threads together three different storylines, which intertwine, especially at the novel’s conclusion: the often slapstick depiction of life in Stalinist Moscow, seen in part through the antics of the devil Woland and his demonic helpers; the story of Pilate, with names and details transformed from the familiar Biblical versions; and the story of the Master and Margarita. The action takes place in a compressed time frame, so readers looking for character development will be disappointed. Instead, Bulgakov develops an extended allegory where flight equals freedom, where greed and small-mindedness are punished, and where weary artists are afforded some mercy and peace.  provided Bulgakov with a lifeline to the imagination in the midst of the stultifying culture of Stalinist Russia. There are healthy doses of wish fulfillment in the novel, especially in those sections in which Woland’s minions, Azazello, Behemoth, and Koroviev, wreak retribution for the petty-mindedness and greed inherent in this political and social system. There also is a desperate attempt to resist the Stalinist bent towards monotony and flatness, and instead to weave dizzying strands of magic, fantasy, and power into life in Moscow. These attempts to use a story as wish fulfillment, criticizing a social order by turning it upside down in fiction, and recognizing how to use an audience’s sense of wonder as a fulcrum for change, resonate with the historical and cultural functions of fairy tales as described by scholars including Jack Zipes in   and Marina Warner in  . Magic and wonder force the reader to acknowledge other possibilities outside of a reality of political repression, poverty, and war. When fairy tales reveal challenges to misplaced authority, whether in the guise of an evil queen or a greedy government official, they may take on one of two roles: a subversive threat to authority, or a valve to release the pressure of living under severe constraints. Perhaps most important, fairy tales remind their readers that life is miraculous, and that certain freedoms, such as the freedom to imagine and dream, can be nurtured and honored even under the most restrictive regimes.  For Bulgakov, the blend of the fantastical and the everyday in   serves as his manifesto. Throughout his life, he fought to preserve the full human experience, not the two-dimensional totalitarianism in the Stalinist USSR, where human life was flattened of any sense of wonder, creativity, exuberance. Instead, he advocated for human life with all its shadows and colors, with a foundation in imagination and wonder. The freedom he sought was not simply freedom from communal housing or repressive government policies. Instead, he sought the freedom to imagine, to dream, to infuse his life with wonder, and to share his vision. For this reason, any attempt to read   as a simple satire of Stalinist totalitarianism is misguided. Instead, Bulgakov sought to fly free along with his characters, and in doing so to tap into the universal human need for imagination, wonder, and freedom of the intellect and spirit. Although Bulgakov universalized his quest for artistic freedom in  , he drew inspiration and a sense of urgency from his experiences. A playwright, he faced censorship as his plays were banned and productions cancelled. He saw his fellow writers imprisoned for following their calling. (In response to one of these cases, Bulgakov destroyed one version of  , which he later reconstructed.) In desperation, between 1929 and 1930 Bulgakov wrote three letters to Soviet government officials, including Stalin, to protest his censorship and beg for a chance to practice his art, if not within Russia, outside it. In the final letter, dated March 28, 1930, Bulgakov movingly describes his ordeal, arguing that his duty as a writer is to defend artistic freedom, and pleading that being silenced is tantamount to death. Although the letters provided Bulgakov with employment after receiving a favorable response, and saved him from arrest or execution, he still faced his works’ being banned and suppressed. He devoted the last years of his life to revising  , knowing he would not live to see it published, and sometimes despairing it would ever be read outside of his family circle. His widow, Yelena Shilovskaya, worked tirelessly after his death for decades, preserving his manuscript and finally seeing it published, in a censored version, in 1966 and 1967.  Some criticism of  comes from the abrupt transitions and changes in mood among the three storylines: the actions of Woland and his minions in Moscow; the transformed story of Pontius Pilate, with some striking changes to the names of characters and the sequence of events which simultaneously make the narrative seem more historical and keep readers off-balance; and the story of the Master and Margarita, which includes Bulgakov’s central concerns about cowardice, artistry, duty, loyalty and love. I believe that Bulgakov purposefully constructed his novel so that the reader would be pulled from dimension to dimension. The effect, although jarring, is one of constant instability and surprise. The reader is immersed in a world where a Biblical past seems more historically based and less fantastic than 20th-century Moscow, where characters who are petty and greedy are meted out fantastic public punishments, at times literally on a stage, and where in the end characters with the most substance and loyalty have their lives transformed through magic. By carefully building this multifaceted world, with all the seams showing, Bulgakov forces us as readers to consider the intersections among these worlds. Bulgakov reveals how we cut ourselves off from the wellsprings of magic and wonder, and invites us to join him in mounting a broomstick and riding off into the night sky, free from the constraints of our everyday lives. Just as Bulgakov confounds his readers’ expectations of a unified and seamless world, so he also makes us question our assumptions about good and evil. A key character is Woland, the devil at the center of the magical action. From his appearance in the first chapter, Woland presents an arresting and disconcerting figure. Woland immediately inserts himself into a conversation with Berlioz, the editor of a literary magazine and chair of MASSOLIT, a prestigious literary association, and Ivan, a poet also known by his pen name Bezdomny, engaging in a debate with them about the existence of God. Berlioz parrots many of the current arguments against the existence of God, but Woland deftly counters his arguments in a manner that veers between the charming and the sinister. This debate introduces a theme that runs throughout  : a cosmos in which good and evil each have their jurisdiction, but work together to ensure that people get the rewards or punishments that they deserve. In a famous passage later in the novel, Woland provides the following cogent description:  Throughout  , Woland metes out justice to wrongdoers. However, he does not simply punish -- instead, he also rewards Margarita for her devotion, intelligence, loyalty, and bravery. He rescues the Master from his exile in the asylum and ultimately grants him and Margarita a destiny of peace and rest together. In doing so, Woland overturns our expectations. Bulgakov describes a world where good and evil powers work together to provide some justice and balance in our lives, in spite of the thoughtless and cruel ways that humans behave. As Woland tells Margarita at one point, “Everything will be made right, that is what the world is built on.” The true evil in   does not rise from Hell, but instead comes from the pettiness and greed of flawed, small-minded humans. The Master makes his appearance relatively late in the novel, in chapter 13, “Enter the Hero.” However, he is not the traditional hero. He is a broken man, living in an asylum, remembering his love for Margarita, while at the same time turning his back on the art that Margarita loved, protected, and honored: his novel about Pontius Pilate. In a lengthy conversation with Ivan, the Master paints an idyllic portrait of his life with Margarita, who creates a cozy sanctuary full of roses and love, in which the written word is treasured and respected:  However this idyll comes to a crashing end when the Master completes the manuscript and looks for a publisher. He provides harrowing descriptions of his brutal treatment by the literary world in Moscow, as editors, publishers, and fellow writers publicly criticized him for his novel. These descriptions bear the pain of Bulgakov’s personal experience with censorship and rejection, culminating in the Master’s paralyzing fear of everything around him. Finally, in a scene inspired by events in Bulgakov’s life, the Master attempts to destroy his manuscript. Although Margarita salvages some pages, this scene marks the end of her life with the Master, who turns his back on Margarita and his art. He describes himself as a man without a name or a future, marking time in the asylum. Bulgakov depicts the Master as a broken man, whose loss of spirit and cowardice in the face of adversity led him to lose everything of value in his life. Margarita poses a stark contrast to the Master. When we finally meet her in part two, she is grieving over losing the Master, but she also shows herself to be intelligent, energetic, and fearless in her determination to find him and rebuild their life together. In doing so, Margarita is not taking an easy path. She is married to a successful husband who adores her. The two live in a large apartment with a great deal of privacy, a true luxury in Stalinist Moscow. She is beautiful, but she cannot put behind her deep dissatisfaction with her life, apparently perfect on the surface, but with no depth. She is living a lie. Her despair starts to break when she has a dream about the Master, which she views as a portent that her torment will soon come to an end. After rushing from her home, she has a fateful conversation with Azazello, whom Woland has tasked with inviting her to officiate as his queen at his ball. Margarita handles the interaction with spirit and courage, agreeing to follow Azazello’s mysterious instructions in hopes of learning the Master’s fate. Margarita is transformed and embarks on a night ride, flying naked on a broomstick over Moscow. After wreaking havoc at the apartment of a publisher who had tormented the Master, and comforting a small boy who awakened, terrified by the destruction, she participates in a moonlight gathering of other magical creatures. Afterwards, she returns to Moscow in a magical car, “After all that evening's marvels and enchantments, she had already guessed who they were taking her to visit, but that didn't frighten her. The hope that there she would succeed in regaining her happiness made her fearless.” The night ride is a symbol of Margarita’s freedom and power. Her fearlessness propels Margarita through her meeting with Woland and his minions, and a surreal evening as the queen of Woland’s midnight ball. Her devotion is rewarded by Woland, in scenes full of magic and moonlight. Although the Master crumbles in the face of adversity, Margarita becomes the ultimate hero and savior through her courage and commitment to the Master and his art. Throughout  , Bulgakov uses key symbols to tie together the different chapters and storylines. Perhaps the most important symbol is the moon, which appears frequently in practically every chapter. The moon conveys a kind of otherworldly truth. Characters are bathed in moonlight at critical points in the novel, especially when making entrances, as when the Master first appears in Ivan’s hospital room. Moonlight imparts insight and truth even to the most delusional of characters. The moon lights the night rides of Woland, his companions, Margarita and the Master. The moonlight also features prominently in the Pilate chapters, serving as a lynchpin between them and the rest of the novel. Pilate looks up at the moon for solace in the face of his agony from his migraines and his cowardice, with his faithful dog Banga as his sole companion. Bulgakov uses the moon to illuminate Pilate’s torment and his final peace, granted to him by the Master, his creator: In response to Woland’s prompting, the Master stands and shouts the words that complete his novel, and end Pilate’s torture: Bulgakov follows this transformative scene with Woland’s gift of peace to the Master. As she did throughout the novel, Margarita remains by the Master’s side, his loyal companion through eternity. Bulgakov cannot give salvation to the Master, perhaps because of the enormity of his cowardice against art, perhaps because he has been so damaged by a hostile society. In these final passages, Margarita gives the Master, and the reader, a soothing picture of a peaceful life, perhaps one Bulgakov himself longed for:\n",
      "\n",
      "pos\n",
      "\n",
      "Very little can prepare you for the wild ride that is Mikhail Bulgakov's \"The Master and Margarita,\" especially if you've read other literature or folklore that have the devil as a character. What will be helpful, I suspect, is knowing a bit about the time and setting of the novel. Bulgakov wrote this book between 1930 and 1940 while living in Moscow under Stalin. The book is set in 1920, when everything was being taken under government control, from the distribution of food and beverages to city living quarters. Foreign nationals, literature, currency, and influence were tightly controlled, if not banned, and the secret police had eyes everywhere, locking up citizens on the barest of evidence and shipping them off to labor camps in Siberia. If this weren't bad enough, opportunists played the system for their own selfish benefit, such as reporting one's neighbor to the secret police in order to move into the neighbor's apartment. Religion went from being state-sanctioned to all but banned, and churches were vandalized and looted. All published literature was so scrutinized that only the most coded dissent could get through the censors. Bulgakov went from being an acclaimed playwright to an artist dependent on the unpredictable whims of the regime, having plays produced at theatres, but then shut down shortly after opening.  \"The Master and Margarita,\" is in part a frustrated artist's reaction to all of this, as the devil appears in Moscow and wreaks merry havoc on those people whose mediocrity allowed them to thrive under Stalin, but it is also a great deal more. There are two other narratives entwined with the devil's mischief: a retelling of the Christian crucifixion with Pontius Pilate as the main character, whose story is told by several different narrators, and the story of a writer known simply as The Master and his married lover Margarita. Bulgakov has a great deal of structural fun with these three stories, leaping from one to the other with ease and weaving threads from each story into the others. But ultimately, this book is much more than the stories that comprise it. It's at turns winsome and grotesque, horrifying and hilarious, but at its core a book about hope and intellectual honesty. Though Bulgakov's masterpiece wasn't published until after his death (and Stalin's), the devil's reassurance that no truth can ever be truly lost feels simultaneously prophetic and poignant. I highly recommend this book for anybody seeking freedom from genre and cliche.\n",
      "\n",
      "pos\n",
      "\n"
     ]
    }
   ],
   "source": [
    "for document, label in zip(documents, labels)[:10]:\n",
    "    print document\n",
    "    print label\n",
    "    print"
   ]
  },
  {
   "cell_type": "code",
   "execution_count": 98,
   "metadata": {},
   "outputs": [
    {
     "name": "stdout",
     "output_type": "stream",
     "text": [
      "number neg: 416\n"
     ]
    }
   ],
   "source": [
    "print 'number neg:', len([item for item in labels if item == 'neg'])"
   ]
  },
  {
   "cell_type": "markdown",
   "metadata": {},
   "source": [
    "# transform texts into vectors\n",
    "\n",
    "let's use TF-IDF (term frequency, inverse document frequency):\n",
    "\n",
    "- give more weight to words that occur a lot within a document\n",
    "- give less weight to words that occur in many documents"
   ]
  },
  {
   "cell_type": "code",
   "execution_count": 99,
   "metadata": {},
   "outputs": [],
   "source": [
    "vectorizer = TfidfVectorizer()"
   ]
  },
  {
   "cell_type": "code",
   "execution_count": 100,
   "metadata": {},
   "outputs": [
    {
     "name": "stdout",
     "output_type": "stream",
     "text": [
      "(2431, 38515) (2431,)\n"
     ]
    }
   ],
   "source": [
    "X = vectorizer.fit_transform(documents)\n",
    "y = np.array(labels)\n",
    "\n",
    "print X.shape, y.shape"
   ]
  },
  {
   "cell_type": "code",
   "execution_count": 101,
   "metadata": {},
   "outputs": [
    {
     "data": {
      "text/plain": [
       "array(['neg', 'pos', 'pos', ..., 'pos', 'pos', 'pos'],\n",
       "      dtype='|S3')"
      ]
     },
     "execution_count": 101,
     "metadata": {},
     "output_type": "execute_result"
    }
   ],
   "source": [
    "y"
   ]
  },
  {
   "cell_type": "markdown",
   "metadata": {},
   "source": [
    "# instantiate classifier\n",
    "\n",
    "naive Bayes:\n",
    "\n",
    "$$probability(spam | document) = probability(document | spam) \\times probability(spam) / probability(document)$$\n",
    "\n",
    "$$ \\approx prob(word_1|spam) \\times prob(word_2|spam) \\times ... \\times prob(word_n|spam) \\times prob(spam)$$\n",
    "\n",
    "\"naive\" = \"wrong\""
   ]
  },
  {
   "cell_type": "code",
   "execution_count": 102,
   "metadata": {},
   "outputs": [],
   "source": [
    "clf = BernoulliNB()"
   ]
  },
  {
   "cell_type": "markdown",
   "metadata": {},
   "source": [
    "# cross validation"
   ]
  },
  {
   "cell_type": "code",
   "execution_count": 103,
   "metadata": {},
   "outputs": [],
   "source": [
    "cv = cross_validation.StratifiedKFold(y,5)"
   ]
  },
  {
   "cell_type": "code",
   "execution_count": 104,
   "metadata": {},
   "outputs": [],
   "source": [
    "precision=[]\n",
    "recall=[]\n",
    "for train, test in cv:\n",
    "    X_train = X[train]\n",
    "    X_test = X[test]\n",
    "    y_train = y[train]\n",
    "    y_test = y[test]\n",
    "#     print len(y_train), len(y_test)\n",
    "#     clf = BernoulliNB()\n",
    "    clf.fit(X_train, y_train)\n",
    "    y_hat = clf.predict(X_test)\n",
    "    p,r,_,_ = metrics.precision_recall_fscore_support(y_test, y_hat)\n",
    "    precision.append(p[1])\n",
    "    recall.append(r[1])"
   ]
  },
  {
   "cell_type": "code",
   "execution_count": 106,
   "metadata": {},
   "outputs": [
    {
     "data": {
      "text/plain": [
       "[0.86848635235732008,\n",
       " 0.89330024813895781,\n",
       " 0.90074441687344908,\n",
       " 0.85607940446650121,\n",
       " 0.81637717121588094]"
      ]
     },
     "execution_count": 106,
     "metadata": {},
     "output_type": "execute_result"
    }
   ],
   "source": [
    "recall"
   ]
  },
  {
   "cell_type": "markdown",
   "metadata": {},
   "source": [
    "# average precision / recall across k-folds\n",
    "\n",
    "- precision: of predicted negative reviews, how many are actually negative reviews?\n",
    "- recall: of the actual negative reviews, how many are predicted to be negative reviews?"
   ]
  },
  {
   "cell_type": "code",
   "execution_count": 107,
   "metadata": {},
   "outputs": [
    {
     "name": "stdout",
     "output_type": "stream",
     "text": [
      "precision: 0.843354920254 +/- 0.0063734628691\n",
      "recall: 0.86699751861 +/- 0.0300483880957\n"
     ]
    }
   ],
   "source": [
    "# print vectorizer\n",
    "# print clf\n",
    "print 'precision:',np.average(precision), '+/-', np.std(precision)\n",
    "print 'recall:', np.average(recall), '+/-', np.std(recall)"
   ]
  },
  {
   "cell_type": "markdown",
   "metadata": {},
   "source": [
    "# try on new negative review"
   ]
  },
  {
   "cell_type": "code",
   "execution_count": 118,
   "metadata": {},
   "outputs": [
    {
     "name": "stdout",
     "output_type": "stream",
     "text": [
      "absolute recommendation unforgettable grand outstanding captivating marvelous\n"
     ]
    }
   ],
   "source": [
    "sample = 'absolute recommendation unforgettable grand outstanding captivating marvelous'\n",
    "print sample\n",
    "sample = vectorizer.transform([sample])\n",
    "#print sample"
   ]
  },
  {
   "cell_type": "code",
   "execution_count": 120,
   "metadata": {},
   "outputs": [
    {
     "data": {
      "text/plain": [
       "array([[  7.81608867e-62,   1.00000000e+00]])"
      ]
     },
     "execution_count": 120,
     "metadata": {},
     "output_type": "execute_result"
    }
   ],
   "source": [
    "clf.predict_proba(sample)"
   ]
  },
  {
   "cell_type": "markdown",
   "metadata": {},
   "source": [
    "# most spammy words"
   ]
  },
  {
   "cell_type": "code",
   "execution_count": 110,
   "metadata": {},
   "outputs": [
    {
     "data": {
      "text/plain": [
       "38515"
      ]
     },
     "execution_count": 110,
     "metadata": {},
     "output_type": "execute_result"
    }
   ],
   "source": [
    "probs=clf.feature_log_prob_[1] - clf.feature_log_prob_[0]\n",
    "len(probs)"
   ]
  },
  {
   "cell_type": "code",
   "execution_count": 111,
   "metadata": {},
   "outputs": [
    {
     "data": {
      "text/plain": [
       "38515"
      ]
     },
     "execution_count": 111,
     "metadata": {},
     "output_type": "execute_result"
    }
   ],
   "source": [
    "features=vectorizer.get_feature_names()\n",
    "len(features)"
   ]
  },
  {
   "cell_type": "code",
   "execution_count": 117,
   "metadata": {},
   "outputs": [
    {
     "data": {
      "text/plain": [
       "[(2.0111786214512817, u'absolute'),\n",
       " (1.8933955857948983, u'wide'),\n",
       " (1.8933955857948983, u'endure'),\n",
       " (1.6857562210166535, u'recommendation'),\n",
       " (1.6663381351595521, u'lee'),\n",
       " (1.6465355078633728, u'prisoners'),\n",
       " (1.6465355078633728, u'portrait'),\n",
       " (1.6465355078633728, u'abraham'),\n",
       " (1.5631538989243214, u'unforgettable'),\n",
       " (1.5187021363534878, u'forgiveness'),\n",
       " (1.5187021363534878, u'eternal'),\n",
       " (1.5187021363534878, u'calvin'),\n",
       " (1.5187021363534878, u'atrocities'),\n",
       " (1.4721821207185948, u'grand'),\n",
       " (1.4721821207185943, u'steinbeck'),\n",
       " (1.4721821207185943, u'pen'),\n",
       " (1.4721821207185943, u'grinch'),\n",
       " (1.4721821207185943, u'grandfather'),\n",
       " (1.4721821207185943, u'fantastic'),\n",
       " (1.4233919565491622, u'pressure'),\n",
       " (1.4233919565491622, u'owner'),\n",
       " (1.4233919565491622, u'cabinet'),\n",
       " (1.372098662161612, u'searching'),\n",
       " (1.372098662161612, u'limits'),\n",
       " (1.372098662161612, u'hobbes'),\n",
       " (1.372098662161612, u'hadrian'),\n",
       " (1.372098662161612, u'guilt'),\n",
       " (1.372098662161612, u'drawing'),\n",
       " (1.372098662161612, u'california'),\n",
       " (1.372098662161612, u'biblical'),\n",
       " (1.372098662161612, u'administration'),\n",
       " (1.3543990850622114, u'incredible'),\n",
       " (1.3543990850622114, u'faith'),\n",
       " (1.3180314408913363, u'useful'),\n",
       " (1.3180314408913363, u'truths'),\n",
       " (1.3180314408913363, u'sagan'),\n",
       " (1.3180314408913363, u'outstanding'),\n",
       " (1.3180314408913363, u'mountains'),\n",
       " (1.3180314408913363, u'maria'),\n",
       " (1.3180314408913363, u'david'),\n",
       " (1.3180314408913363, u'brutal'),\n",
       " (1.2725690668145786, u'beauty'),\n",
       " (1.2608730270513879, u'yourcenar'),\n",
       " (1.2608730270513879, u'worried'),\n",
       " (1.2608730270513879, u'shy'),\n",
       " (1.2608730270513879, u'ruthless'),\n",
       " (1.2608730270513879, u'march'),\n",
       " (1.2608730270513879, u'insights'),\n",
       " (1.2608730270513879, u'haunting'),\n",
       " (1.2608730270513879, u'handful'),\n",
       " (1.2608730270513879, u'forty'),\n",
       " (1.2608730270513879, u'exquisite'),\n",
       " (1.2608730270513879, u'curiosity'),\n",
       " (1.2608730270513879, u'captivating'),\n",
       " (1.2310200639017066, u'nation'),\n",
       " (1.2002484052349534, u'tall'),\n",
       " (1.2002484052349534, u'shop'),\n",
       " (1.2002484052349534, u'rival'),\n",
       " (1.2002484052349534, u'overwhelmed'),\n",
       " (1.2002484052349534, u'marvelous'),\n",
       " (1.2002484052349534, u'mafia'),\n",
       " (1.2002484052349534, u'imperial'),\n",
       " (1.2002484052349534, u'hardships'),\n",
       " (1.2002484052349534, u'guide'),\n",
       " (1.2002484052349534, u'germans'),\n",
       " (1.2002484052349534, u'flowers'),\n",
       " (1.2002484052349534, u'duncan'),\n",
       " (1.2002484052349534, u'discovery'),\n",
       " (1.2002484052349534, u'dignity'),\n",
       " (1.2002484052349534, u'depends')]"
      ]
     },
     "execution_count": 117,
     "metadata": {},
     "output_type": "execute_result"
    }
   ],
   "source": [
    "sorted(zip(probs,features), reverse=True)[:70]"
   ]
  },
  {
   "cell_type": "markdown",
   "metadata": {},
   "source": [
    "\n"
   ]
  },
  {
   "cell_type": "markdown",
   "metadata": {
    "collapsed": true
   },
   "source": [
    "![](cat.jpg)"
   ]
  },
  {
   "cell_type": "code",
   "execution_count": null,
   "metadata": {
    "collapsed": true
   },
   "outputs": [],
   "source": []
  }
 ],
 "metadata": {
  "kernelspec": {
   "display_name": "Python 2",
   "language": "python",
   "name": "python2"
  },
  "language_info": {
   "codemirror_mode": {
    "name": "ipython",
    "version": 2
   },
   "file_extension": ".py",
   "mimetype": "text/x-python",
   "name": "python",
   "nbconvert_exporter": "python",
   "pygments_lexer": "ipython2",
   "version": "2.7.12"
  }
 },
 "nbformat": 4,
 "nbformat_minor": 1
}
